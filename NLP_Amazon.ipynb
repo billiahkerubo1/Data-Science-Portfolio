{
  "cells": [
    {
      "cell_type": "markdown",
      "metadata": {
        "id": "view-in-github",
        "colab_type": "text"
      },
      "source": [
        "<a href=\"https://colab.research.google.com/github/billiahkerubo1/Data-Science-Portfolio/blob/main/NLP_Amazon.ipynb\" target=\"_parent\"><img src=\"https://colab.research.google.com/assets/colab-badge.svg\" alt=\"Open In Colab\"/></a>"
      ]
    },
    {
      "cell_type": "code",
      "execution_count": null,
      "id": "10d58e3a",
      "metadata": {
        "colab": {
          "base_uri": "https://localhost:8080/",
          "height": 739
        },
        "id": "10d58e3a",
        "outputId": "2e113e28-7333-40a7-ad3e-8f65637ff976"
      },
      "outputs": [
        {
          "output_type": "execute_result",
          "data": {
            "text/plain": [
              "   Id   ProductId          UserId                      ProfileName  \\\n",
              "0   1  B001E4KFG0  A3SGXH7AUHU8GW                       delmartian   \n",
              "1   2  B00813GRG4  A1D87F6ZCVE5NK                           dll pa   \n",
              "2   3  B000LQOCH0   ABXLMWJIXXAIN  Natalia Corres \"Natalia Corres\"   \n",
              "3   4  B000UA0QIQ  A395BORC6FGVXV                             Karl   \n",
              "4   5  B006K2ZZ7K  A1UQRSCLF8GW1T    Michael D. Bigham \"M. Wassir\"   \n",
              "\n",
              "   HelpfulnessNumerator  HelpfulnessDenominator  Score        Time  \\\n",
              "0                     1                       1      5  1303862400   \n",
              "1                     0                       0      1  1346976000   \n",
              "2                     1                       1      4  1219017600   \n",
              "3                     3                       3      2  1307923200   \n",
              "4                     0                       0      5  1350777600   \n",
              "\n",
              "                 Summary                                               Text  \n",
              "0  Good Quality Dog Food  I have bought several of the Vitality canned d...  \n",
              "1      Not as Advertised  Product arrived labeled as Jumbo Salted Peanut...  \n",
              "2  \"Delight\" says it all  This is a confection that has been around a fe...  \n",
              "3         Cough Medicine  If you are looking for the secret ingredient i...  \n",
              "4            Great taffy  Great taffy at a great price.  There was a wid...  "
            ],
            "text/html": [
              "\n",
              "  <div id=\"df-ec303fa1-f640-46e2-b771-0897e779a5b1\">\n",
              "    <div class=\"colab-df-container\">\n",
              "      <div>\n",
              "<style scoped>\n",
              "    .dataframe tbody tr th:only-of-type {\n",
              "        vertical-align: middle;\n",
              "    }\n",
              "\n",
              "    .dataframe tbody tr th {\n",
              "        vertical-align: top;\n",
              "    }\n",
              "\n",
              "    .dataframe thead th {\n",
              "        text-align: right;\n",
              "    }\n",
              "</style>\n",
              "<table border=\"1\" class=\"dataframe\">\n",
              "  <thead>\n",
              "    <tr style=\"text-align: right;\">\n",
              "      <th></th>\n",
              "      <th>Id</th>\n",
              "      <th>ProductId</th>\n",
              "      <th>UserId</th>\n",
              "      <th>ProfileName</th>\n",
              "      <th>HelpfulnessNumerator</th>\n",
              "      <th>HelpfulnessDenominator</th>\n",
              "      <th>Score</th>\n",
              "      <th>Time</th>\n",
              "      <th>Summary</th>\n",
              "      <th>Text</th>\n",
              "    </tr>\n",
              "  </thead>\n",
              "  <tbody>\n",
              "    <tr>\n",
              "      <th>0</th>\n",
              "      <td>1</td>\n",
              "      <td>B001E4KFG0</td>\n",
              "      <td>A3SGXH7AUHU8GW</td>\n",
              "      <td>delmartian</td>\n",
              "      <td>1</td>\n",
              "      <td>1</td>\n",
              "      <td>5</td>\n",
              "      <td>1303862400</td>\n",
              "      <td>Good Quality Dog Food</td>\n",
              "      <td>I have bought several of the Vitality canned d...</td>\n",
              "    </tr>\n",
              "    <tr>\n",
              "      <th>1</th>\n",
              "      <td>2</td>\n",
              "      <td>B00813GRG4</td>\n",
              "      <td>A1D87F6ZCVE5NK</td>\n",
              "      <td>dll pa</td>\n",
              "      <td>0</td>\n",
              "      <td>0</td>\n",
              "      <td>1</td>\n",
              "      <td>1346976000</td>\n",
              "      <td>Not as Advertised</td>\n",
              "      <td>Product arrived labeled as Jumbo Salted Peanut...</td>\n",
              "    </tr>\n",
              "    <tr>\n",
              "      <th>2</th>\n",
              "      <td>3</td>\n",
              "      <td>B000LQOCH0</td>\n",
              "      <td>ABXLMWJIXXAIN</td>\n",
              "      <td>Natalia Corres \"Natalia Corres\"</td>\n",
              "      <td>1</td>\n",
              "      <td>1</td>\n",
              "      <td>4</td>\n",
              "      <td>1219017600</td>\n",
              "      <td>\"Delight\" says it all</td>\n",
              "      <td>This is a confection that has been around a fe...</td>\n",
              "    </tr>\n",
              "    <tr>\n",
              "      <th>3</th>\n",
              "      <td>4</td>\n",
              "      <td>B000UA0QIQ</td>\n",
              "      <td>A395BORC6FGVXV</td>\n",
              "      <td>Karl</td>\n",
              "      <td>3</td>\n",
              "      <td>3</td>\n",
              "      <td>2</td>\n",
              "      <td>1307923200</td>\n",
              "      <td>Cough Medicine</td>\n",
              "      <td>If you are looking for the secret ingredient i...</td>\n",
              "    </tr>\n",
              "    <tr>\n",
              "      <th>4</th>\n",
              "      <td>5</td>\n",
              "      <td>B006K2ZZ7K</td>\n",
              "      <td>A1UQRSCLF8GW1T</td>\n",
              "      <td>Michael D. Bigham \"M. Wassir\"</td>\n",
              "      <td>0</td>\n",
              "      <td>0</td>\n",
              "      <td>5</td>\n",
              "      <td>1350777600</td>\n",
              "      <td>Great taffy</td>\n",
              "      <td>Great taffy at a great price.  There was a wid...</td>\n",
              "    </tr>\n",
              "  </tbody>\n",
              "</table>\n",
              "</div>\n",
              "      <button class=\"colab-df-convert\" onclick=\"convertToInteractive('df-ec303fa1-f640-46e2-b771-0897e779a5b1')\"\n",
              "              title=\"Convert this dataframe to an interactive table.\"\n",
              "              style=\"display:none;\">\n",
              "        \n",
              "  <svg xmlns=\"http://www.w3.org/2000/svg\" height=\"24px\"viewBox=\"0 0 24 24\"\n",
              "       width=\"24px\">\n",
              "    <path d=\"M0 0h24v24H0V0z\" fill=\"none\"/>\n",
              "    <path d=\"M18.56 5.44l.94 2.06.94-2.06 2.06-.94-2.06-.94-.94-2.06-.94 2.06-2.06.94zm-11 1L8.5 8.5l.94-2.06 2.06-.94-2.06-.94L8.5 2.5l-.94 2.06-2.06.94zm10 10l.94 2.06.94-2.06 2.06-.94-2.06-.94-.94-2.06-.94 2.06-2.06.94z\"/><path d=\"M17.41 7.96l-1.37-1.37c-.4-.4-.92-.59-1.43-.59-.52 0-1.04.2-1.43.59L10.3 9.45l-7.72 7.72c-.78.78-.78 2.05 0 2.83L4 21.41c.39.39.9.59 1.41.59.51 0 1.02-.2 1.41-.59l7.78-7.78 2.81-2.81c.8-.78.8-2.07 0-2.86zM5.41 20L4 18.59l7.72-7.72 1.47 1.35L5.41 20z\"/>\n",
              "  </svg>\n",
              "      </button>\n",
              "      \n",
              "  <style>\n",
              "    .colab-df-container {\n",
              "      display:flex;\n",
              "      flex-wrap:wrap;\n",
              "      gap: 12px;\n",
              "    }\n",
              "\n",
              "    .colab-df-convert {\n",
              "      background-color: #E8F0FE;\n",
              "      border: none;\n",
              "      border-radius: 50%;\n",
              "      cursor: pointer;\n",
              "      display: none;\n",
              "      fill: #1967D2;\n",
              "      height: 32px;\n",
              "      padding: 0 0 0 0;\n",
              "      width: 32px;\n",
              "    }\n",
              "\n",
              "    .colab-df-convert:hover {\n",
              "      background-color: #E2EBFA;\n",
              "      box-shadow: 0px 1px 2px rgba(60, 64, 67, 0.3), 0px 1px 3px 1px rgba(60, 64, 67, 0.15);\n",
              "      fill: #174EA6;\n",
              "    }\n",
              "\n",
              "    [theme=dark] .colab-df-convert {\n",
              "      background-color: #3B4455;\n",
              "      fill: #D2E3FC;\n",
              "    }\n",
              "\n",
              "    [theme=dark] .colab-df-convert:hover {\n",
              "      background-color: #434B5C;\n",
              "      box-shadow: 0px 1px 3px 1px rgba(0, 0, 0, 0.15);\n",
              "      filter: drop-shadow(0px 1px 2px rgba(0, 0, 0, 0.3));\n",
              "      fill: #FFFFFF;\n",
              "    }\n",
              "  </style>\n",
              "\n",
              "      <script>\n",
              "        const buttonEl =\n",
              "          document.querySelector('#df-ec303fa1-f640-46e2-b771-0897e779a5b1 button.colab-df-convert');\n",
              "        buttonEl.style.display =\n",
              "          google.colab.kernel.accessAllowed ? 'block' : 'none';\n",
              "\n",
              "        async function convertToInteractive(key) {\n",
              "          const element = document.querySelector('#df-ec303fa1-f640-46e2-b771-0897e779a5b1');\n",
              "          const dataTable =\n",
              "            await google.colab.kernel.invokeFunction('convertToInteractive',\n",
              "                                                     [key], {});\n",
              "          if (!dataTable) return;\n",
              "\n",
              "          const docLinkHtml = 'Like what you see? Visit the ' +\n",
              "            '<a target=\"_blank\" href=https://colab.research.google.com/notebooks/data_table.ipynb>data table notebook</a>'\n",
              "            + ' to learn more about interactive tables.';\n",
              "          element.innerHTML = '';\n",
              "          dataTable['output_type'] = 'display_data';\n",
              "          await google.colab.output.renderOutput(dataTable, element);\n",
              "          const docLink = document.createElement('div');\n",
              "          docLink.innerHTML = docLinkHtml;\n",
              "          element.appendChild(docLink);\n",
              "        }\n",
              "      </script>\n",
              "    </div>\n",
              "  </div>\n",
              "  "
            ]
          },
          "metadata": {},
          "execution_count": 50
        }
      ],
      "source": [
        "\n",
        "import pandas as pd #data manipulation\n",
        "import matplotlib.pyplot as plt\n",
        "import numpy as np\n",
        "import seaborn as sns\n",
        "\n",
        "y=pd.read_csv('/content/Reviews.csv')\n",
        "y.head()\n",
        "\n"
      ]
    },
    {
      "cell_type": "markdown",
      "id": "168b24bd",
      "metadata": {
        "id": "168b24bd"
      },
      "source": [
        "Rid Of Very Unhelpful Reviews & Narrow It To First 5000 Due To Data Size"
      ]
    },
    {
      "cell_type": "code",
      "execution_count": null,
      "id": "e1f39ef4",
      "metadata": {
        "id": "e1f39ef4"
      },
      "outputs": [],
      "source": [
        "train_set = y.loc[(y['Score'] > 2) & (y['Id'] < 15000)]"
      ]
    },
    {
      "cell_type": "markdown",
      "id": "e38e969d",
      "metadata": {
        "id": "e38e969d"
      },
      "source": [
        "Bring in packages to get rid of Stopwords. This helps get rid of junk words that aren't meaningful"
      ]
    },
    {
      "cell_type": "code",
      "execution_count": null,
      "id": "ecd82b2f",
      "metadata": {
        "id": "ecd82b2f",
        "outputId": "2f5140a8-8271-4882-8ac2-9bec6169b376",
        "colab": {
          "base_uri": "https://localhost:8080/"
        }
      },
      "outputs": [
        {
          "output_type": "stream",
          "name": "stdout",
          "text": [
            "[nltk_data] Downloading package punkt to /root/nltk_data...\n",
            "[nltk_data]   Package punkt is already up-to-date!\n",
            "[nltk_data] Downloading package averaged_perceptron_tagger to\n",
            "[nltk_data]     /root/nltk_data...\n",
            "[nltk_data]   Package averaged_perceptron_tagger is already up-to-\n",
            "[nltk_data]       date!\n"
          ]
        }
      ],
      "source": [
        "from nltk.corpus import stopwords\n",
        "import nltk\n",
        "nltk.download('punkt')\n",
        "nltk.download('averaged_perceptron_tagger') \n",
        "import string\n",
        "from nltk import word_tokenize, pos_tag"
      ]
    },
    {
      "cell_type": "markdown",
      "id": "14d43a6e",
      "metadata": {
        "id": "14d43a6e"
      },
      "source": [
        "Loop to strip out nouns"
      ]
    },
    {
      "cell_type": "code",
      "execution_count": null,
      "id": "e92a949e",
      "metadata": {
        "id": "e92a949e"
      },
      "outputs": [],
      "source": [
        "def nouns(text):\n",
        "    '''Given a string of text, tokenize the text and pull out only the nouns.'''\n",
        "    is_noun = lambda pos: pos[:2] == 'NN'\n",
        "    tokenized = word_tokenize(text)\n",
        "    all_nouns = [word for (word, pos) in pos_tag(tokenized) if is_noun(pos)] \n",
        "    return ' '.join(all_nouns)"
      ]
    },
    {
      "cell_type": "markdown",
      "id": "a939d5c3",
      "metadata": {
        "id": "a939d5c3"
      },
      "source": [
        "Now use the loop to strip out nouns from the Text column"
      ]
    },
    {
      "cell_type": "code",
      "execution_count": null,
      "id": "06d6cd47",
      "metadata": {
        "id": "06d6cd47"
      },
      "outputs": [],
      "source": [
        "data_nouns = pd.DataFrame(train_set.Text.apply(nouns))"
      ]
    },
    {
      "cell_type": "markdown",
      "id": "cb4ad3e6",
      "metadata": {
        "id": "cb4ad3e6"
      },
      "source": [
        "Add Stop Words to remove words that aren't useful to analysis but common"
      ]
    },
    {
      "cell_type": "code",
      "execution_count": null,
      "id": "89b6d0ea",
      "metadata": {
        "id": "89b6d0ea"
      },
      "outputs": [],
      "source": [
        "from sklearn.feature_extraction import text\n",
        "# Re-add the additional stop words since we are recreating the document-term matrix\n",
        "add_stop_words = ['like', 'im', 'know', 'just', 'dont', 'thats', 'right', 'people',\n",
        "                  'youre', 'got', 'gonna', 'time', 'think', 'yeah', 'said','br']\n",
        "stop_words = text.ENGLISH_STOP_WORDS.union(add_stop_words)\n"
      ]
    },
    {
      "cell_type": "markdown",
      "id": "68d33c93",
      "metadata": {
        "id": "68d33c93"
      },
      "source": [
        "Turn Data Set Into A Matrix To Look Into Reviews (you will see in the last line we are only looking at the Text field)"
      ]
    },
    {
      "cell_type": "code",
      "execution_count": null,
      "id": "93877e73",
      "metadata": {
        "id": "93877e73",
        "colab": {
          "base_uri": "https://localhost:8080/"
        },
        "outputId": "57efd4c6-0011-45fa-8449-100b5b2ce494"
      },
      "outputs": [
        {
          "output_type": "stream",
          "name": "stderr",
          "text": [
            "/usr/local/lib/python3.7/dist-packages/sklearn/utils/deprecation.py:87: FutureWarning: Function get_feature_names is deprecated; get_feature_names is deprecated in 1.0 and will be removed in 1.2. Please use get_feature_names_out instead.\n",
            "  warnings.warn(msg, category=FutureWarning)\n"
          ]
        }
      ],
      "source": [
        "from sklearn.feature_extraction import text\n",
        "from sklearn.feature_extraction.text import CountVectorizer\n",
        "\n",
        "cv = CountVectorizer(stop_words=stop_words)\n",
        "data_cv = cv.fit_transform(data_nouns.Text)\n",
        "data_dtmn = pd.DataFrame(data_cv.toarray(), columns=cv.get_feature_names())\n",
        "data_dtmn.index = data_nouns.index\n"
      ]
    },
    {
      "cell_type": "code",
      "source": [
        "from gensim import matutils, models\n",
        "import scipy.sparse\n"
      ],
      "metadata": {
        "id": "mMjHbbmQAL6z"
      },
      "id": "mMjHbbmQAL6z",
      "execution_count": null,
      "outputs": []
    },
    {
      "cell_type": "code",
      "source": [
        "# Create the gensim corpus\n",
        "corpusn = matutils.Sparse2Corpus(scipy.sparse.csr_matrix(data_dtmn.transpose()))\n",
        "\n",
        "# Create the vocabulary dictionary\n",
        "id2wordn = dict((v, k) for k, v in cv.vocabulary_.items())"
      ],
      "metadata": {
        "id": "wtLy5yHnBRnB"
      },
      "id": "wtLy5yHnBRnB",
      "execution_count": null,
      "outputs": []
    },
    {
      "cell_type": "markdown",
      "id": "558b6d2a",
      "metadata": {
        "id": "558b6d2a"
      },
      "source": [
        "Get ready to build model"
      ]
    },
    {
      "cell_type": "code",
      "execution_count": null,
      "id": "dc4a321f",
      "metadata": {
        "id": "dc4a321f",
        "outputId": "824bfa8f-febc-4083-cd17-791ce1bceab7",
        "colab": {
          "base_uri": "https://localhost:8080/"
        }
      },
      "outputs": [
        {
          "output_type": "execute_result",
          "data": {
            "text/plain": [
              "[(0,\n",
              "  '0.018*\"treats\" + 0.017*\"dog\" + 0.016*\"food\" + 0.015*\"product\" + 0.012*\"dogs\" + 0.009*\"amazon\" + 0.009*\"treat\" + 0.008*\"crackers\" + 0.008*\"bag\" + 0.007*\"price\"'),\n",
              " (1,\n",
              "  '0.050*\"coffee\" + 0.020*\"flavor\" + 0.019*\"tea\" + 0.017*\"cup\" + 0.017*\"taste\" + 0.013*\"chocolate\" + 0.011*\"product\" + 0.009*\"sugar\" + 0.009*\"cups\" + 0.009*\"cookies\"')]"
            ]
          },
          "metadata": {},
          "execution_count": 74
        }
      ],
      "source": [
        "ldan = models.LdaModel(corpus=corpusn, num_topics=2, id2word=id2wordn, passes=10)\n",
        "ldan.print_topics()"
      ]
    },
    {
      "cell_type": "code",
      "execution_count": null,
      "id": "bcab2126",
      "metadata": {
        "id": "bcab2126",
        "colab": {
          "base_uri": "https://localhost:8080/"
        },
        "outputId": "19034783-e70e-4548-a551-1494b358e3ac"
      },
      "outputs": [
        {
          "output_type": "execute_result",
          "data": {
            "text/plain": [
              "[(0,\n",
              "  '0.091*\"coffee\" + 0.032*\"cup\" + 0.024*\"flavor\" + 0.017*\"cups\" + 0.017*\"taste\" + 0.010*\"chocolate\" + 0.009*\"keurig\" + 0.009*\"roast\" + 0.009*\"amazon\" + 0.009*\"price\"'),\n",
              " (1,\n",
              "  '0.028*\"treats\" + 0.028*\"dog\" + 0.024*\"food\" + 0.020*\"product\" + 0.020*\"tea\" + 0.019*\"dogs\" + 0.014*\"treat\" + 0.013*\"amazon\" + 0.009*\"price\" + 0.008*\"bag\"'),\n",
              " (2,\n",
              "  '0.016*\"taste\" + 0.015*\"flavor\" + 0.011*\"crackers\" + 0.010*\"product\" + 0.010*\"cookies\" + 0.009*\"mix\" + 0.009*\"sugar\" + 0.008*\"chocolate\" + 0.007*\"water\" + 0.007*\"milk\"')]"
            ]
          },
          "metadata": {},
          "execution_count": 75
        }
      ],
      "source": [
        "ldan = models.LdaModel(corpus=corpusn, num_topics=3, id2word=id2wordn, passes=10)\n",
        "ldan.print_topics()"
      ]
    }
  ],
  "metadata": {
    "kernelspec": {
      "display_name": "Python 3",
      "language": "python",
      "name": "python3"
    },
    "language_info": {
      "codemirror_mode": {
        "name": "ipython",
        "version": 3
      },
      "file_extension": ".py",
      "mimetype": "text/x-python",
      "name": "python",
      "nbconvert_exporter": "python",
      "pygments_lexer": "ipython3",
      "version": "3.8.8"
    },
    "colab": {
      "name": "NLP_Amazon.ipynb",
      "provenance": [],
      "collapsed_sections": [],
      "include_colab_link": true
    }
  },
  "nbformat": 4,
  "nbformat_minor": 5
}